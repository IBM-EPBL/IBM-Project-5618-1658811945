{
 "cells": [
  {
   "cell_type": "code",
   "execution_count": 1,
   "id": "f7a01dc3",
   "metadata": {},
   "outputs": [],
   "source": [
    "import numpy as np\n",
    "import tensorflow as tf\n",
    "from tensorflow import keras\n",
    "from tensorflow.keras.models import Sequential\n",
    "from tensorflow.keras.layers import Dense\n",
    "from tensorflow.keras.layers import Convolution2D\n",
    "from tensorflow.keras.layers import MaxPooling2D\n",
    "from tensorflow.keras.layers import Flatten\n",
    "import matplotlib.pyplot as plt\n"
   ]
  },
  {
   "cell_type": "code",
   "execution_count": 2,
   "id": "20a6294b",
   "metadata": {},
   "outputs": [],
   "source": [
    "from keras.preprocessing.image import ImageDataGenerator\n",
    "train_datagen = ImageDataGenerator(rescale = 1./255,shear_range = 0.2,zoom_range = 0.2,horizontal_flip = True)\n",
    "test_datagen = ImageDataGenerator(rescale = 1)"
   ]
  },
  {
   "cell_type": "code",
   "execution_count": 6,
   "id": "fe577348",
   "metadata": {},
   "outputs": [
    {
     "name": "stdout",
     "output_type": "stream",
     "text": [
      "Found 11386 images belonging to 9 classes.\n",
      "Found 3416 images belonging to 9 classes.\n"
     ]
    }
   ],
   "source": [
    "x_train = train_datagen.flow_from_directory('Veg-dataset/Veg-dataset/train_set',target_size = (128,128),batch_size = 32, class_mode = 'categorical')\n",
    "x_test = test_datagen.flow_from_directory('Veg-dataset/Veg-dataset/test_set',target_size = (128,128),batch_size = 32, class_mode = 'categorical')\n"
   ]
  },
  {
   "cell_type": "code",
   "execution_count": 7,
   "id": "2f16f70b",
   "metadata": {},
   "outputs": [],
   "source": [
    "model=Sequential()\n"
   ]
  },
  {
   "cell_type": "code",
   "execution_count": 8,
   "id": "73c88b08",
   "metadata": {},
   "outputs": [],
   "source": [
    "model.add(Convolution2D(32,(3,3),input_shape = (128,128,3),activation = 'relu'))"
   ]
  },
  {
   "cell_type": "code",
   "execution_count": 9,
   "id": "9df691a1",
   "metadata": {},
   "outputs": [],
   "source": [
    "model.add(MaxPooling2D(pool_size = (2,2)))"
   ]
  },
  {
   "cell_type": "code",
   "execution_count": 10,
   "id": "0587fc2d",
   "metadata": {},
   "outputs": [],
   "source": [
    "model.add(Flatten())"
   ]
  },
  {
   "cell_type": "code",
   "execution_count": 12,
   "id": "f0b78229",
   "metadata": {},
   "outputs": [],
   "source": [
    "model.add(Dense(units = 300 ,kernel_initializer = 'uniform',activation = 'relu'))\n",
    "model.add(Dense(units = 150 ,kernel_initializer = 'uniform',activation = 'relu'))\n",
    "model.add(Dense(units = 75 ,activation = 'relu',kernel_initializer = 'uniform'))\n",
    "model.add(Dense(units = 9 ,activation = 'softmax',kernel_initializer = 'uniform'))\n"
   ]
  },
  {
   "cell_type": "code",
   "execution_count": 13,
   "id": "81f17c37",
   "metadata": {},
   "outputs": [],
   "source": [
    "model.compile(loss = 'categorical_crossentropy',optimizer = \"adam\",metrics = [\"accuracy\"])"
   ]
  },
  {
   "cell_type": "code",
   "execution_count": 14,
   "id": "5a04510c",
   "metadata": {},
   "outputs": [
    {
     "name": "stdout",
     "output_type": "stream",
     "text": [
      "Epoch 1/20\n"
     ]
    },
    {
     "name": "stderr",
     "output_type": "stream",
     "text": [
      "C:\\Users\\sriya\\AppData\\Local\\Temp\\ipykernel_25452\\1643366923.py:1: UserWarning: `Model.fit_generator` is deprecated and will be removed in a future version. Please use `Model.fit`, which supports generators.\n",
      "  model.fit_generator(x_train, steps_per_epoch = 89, epochs = 20,validation_data = x_test, validation_steps = 27)\n"
     ]
    },
    {
     "name": "stdout",
     "output_type": "stream",
     "text": [
      "89/89 [==============================] - 35s 387ms/step - loss: 2.1018 - accuracy: 0.1791 - val_loss: 101.1147 - val_accuracy: 0.1273\n",
      "Epoch 2/20\n",
      "89/89 [==============================] - 34s 380ms/step - loss: 2.0854 - accuracy: 0.1692 - val_loss: 34.7438 - val_accuracy: 0.1782\n",
      "Epoch 3/20\n",
      "89/89 [==============================] - 34s 379ms/step - loss: 2.0405 - accuracy: 0.1847 - val_loss: 62.4292 - val_accuracy: 0.2720\n",
      "Epoch 4/20\n",
      "89/89 [==============================] - 33s 374ms/step - loss: 1.7793 - accuracy: 0.2971 - val_loss: 237.7316 - val_accuracy: 0.1736\n",
      "Epoch 5/20\n",
      "89/89 [==============================] - 36s 405ms/step - loss: 1.6827 - accuracy: 0.3170 - val_loss: 245.0887 - val_accuracy: 0.2373\n",
      "Epoch 6/20\n",
      "89/89 [==============================] - 35s 388ms/step - loss: 1.5551 - accuracy: 0.4094 - val_loss: 437.4930 - val_accuracy: 0.2604\n",
      "Epoch 7/20\n",
      "89/89 [==============================] - 34s 381ms/step - loss: 1.3175 - accuracy: 0.5060 - val_loss: 498.5752 - val_accuracy: 0.3275\n",
      "Epoch 8/20\n",
      "89/89 [==============================] - 35s 396ms/step - loss: 1.1770 - accuracy: 0.5707 - val_loss: 495.5082 - val_accuracy: 0.3345\n",
      "Epoch 9/20\n",
      "89/89 [==============================] - 37s 421ms/step - loss: 1.0440 - accuracy: 0.6239 - val_loss: 378.1893 - val_accuracy: 0.3507\n",
      "Epoch 10/20\n",
      "89/89 [==============================] - 44s 488ms/step - loss: 0.9845 - accuracy: 0.6598 - val_loss: 421.7096 - val_accuracy: 0.3484\n",
      "Epoch 11/20\n",
      "89/89 [==============================] - 41s 460ms/step - loss: 0.8703 - accuracy: 0.6995 - val_loss: 382.6385 - val_accuracy: 0.4421\n",
      "Epoch 12/20\n",
      "89/89 [==============================] - 41s 457ms/step - loss: 0.8122 - accuracy: 0.7142 - val_loss: 702.6324 - val_accuracy: 0.3704\n",
      "Epoch 13/20\n",
      "89/89 [==============================] - 44s 491ms/step - loss: 0.7474 - accuracy: 0.7388 - val_loss: 729.8681 - val_accuracy: 0.4016\n",
      "Epoch 14/20\n",
      "89/89 [==============================] - 49s 548ms/step - loss: 0.6738 - accuracy: 0.7658 - val_loss: 964.8778 - val_accuracy: 0.3785\n",
      "Epoch 15/20\n",
      "89/89 [==============================] - 42s 475ms/step - loss: 0.7187 - accuracy: 0.7581 - val_loss: 600.6293 - val_accuracy: 0.4225\n",
      "Epoch 16/20\n",
      "89/89 [==============================] - 47s 530ms/step - loss: 0.6361 - accuracy: 0.7840 - val_loss: 759.7274 - val_accuracy: 0.3889\n",
      "Epoch 17/20\n",
      "89/89 [==============================] - 43s 485ms/step - loss: 0.6651 - accuracy: 0.7791 - val_loss: 864.9741 - val_accuracy: 0.3299\n",
      "Epoch 18/20\n",
      "89/89 [==============================] - 44s 500ms/step - loss: 0.5702 - accuracy: 0.8072 - val_loss: 968.4995 - val_accuracy: 0.4190\n",
      "Epoch 19/20\n",
      "89/89 [==============================] - 39s 436ms/step - loss: 0.6014 - accuracy: 0.7960 - val_loss: 1045.8334 - val_accuracy: 0.3519\n",
      "Epoch 20/20\n",
      "89/89 [==============================] - 40s 454ms/step - loss: 0.5043 - accuracy: 0.8329 - val_loss: 1101.1173 - val_accuracy: 0.4097\n"
     ]
    },
    {
     "data": {
      "text/plain": [
       "<keras.callbacks.History at 0x24dcb570b80>"
      ]
     },
     "execution_count": 14,
     "metadata": {},
     "output_type": "execute_result"
    }
   ],
   "source": [
    "model.fit_generator(x_train, steps_per_epoch = 89, epochs = 20,validation_data = x_test, validation_steps = 27)"
   ]
  },
  {
   "cell_type": "code",
   "execution_count": 15,
   "id": "724a05da",
   "metadata": {},
   "outputs": [],
   "source": [
    "model.save(\"vegetable.h5\")"
   ]
  },
  {
   "cell_type": "code",
   "execution_count": null,
   "id": "7e35af66",
   "metadata": {},
   "outputs": [],
   "source": []
  },
  {
   "cell_type": "code",
   "execution_count": null,
   "id": "2b4ecc23",
   "metadata": {},
   "outputs": [],
   "source": []
  },
  {
   "cell_type": "code",
   "execution_count": null,
   "id": "3e34bfef",
   "metadata": {},
   "outputs": [],
   "source": []
  },
  {
   "cell_type": "code",
   "execution_count": null,
   "id": "d958e284",
   "metadata": {},
   "outputs": [],
   "source": []
  },
  {
   "cell_type": "code",
   "execution_count": null,
   "id": "f669dc3e",
   "metadata": {},
   "outputs": [],
   "source": []
  }
 ],
 "metadata": {
  "kernelspec": {
   "display_name": "Python 3 (ipykernel)",
   "language": "python",
   "name": "python3"
  },
  "language_info": {
   "codemirror_mode": {
    "name": "ipython",
    "version": 3
   },
   "file_extension": ".py",
   "mimetype": "text/x-python",
   "name": "python",
   "nbconvert_exporter": "python",
   "pygments_lexer": "ipython3",
   "version": "3.9.13"
  }
 },
 "nbformat": 4,
 "nbformat_minor": 5
}
